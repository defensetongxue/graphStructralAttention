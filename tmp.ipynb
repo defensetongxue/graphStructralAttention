{
 "cells": [
  {
   "cell_type": "code",
   "execution_count": 19,
   "metadata": {},
   "outputs": [],
   "source": [
    "from utils import load_data, accuracy"
   ]
  },
  {
   "cell_type": "code",
   "execution_count": 20,
   "metadata": {},
   "outputs": [
    {
     "name": "stdout",
     "output_type": "stream",
     "text": [
      "Loading cora dataset...\n",
      "successfully loading data\n"
     ]
    }
   ],
   "source": [
    "adj, features, labels, idx_train, idx_val, idx_test = load_data(dataset='cora')"
   ]
  },
  {
   "cell_type": "code",
   "execution_count": 27,
   "metadata": {},
   "outputs": [
    {
     "data": {
      "text/plain": [
       "tensor([1.0000, 1.0000, 1.0000,  ..., 1.0000, 1.0000, 1.0000])"
      ]
     },
     "execution_count": 27,
     "metadata": {},
     "output_type": "execute_result"
    }
   ],
   "source": [
    "import torch\n",
    "c=0.5\n",
    "node_number=adj.shape[0]\n",
    "w=adj.clone()\n",
    "w=w/w.sum(0)\n",
    "E=torch.eye(node_number)\n",
    "graph_feature=(1-c)*((E-c*w).inverse()).T\n",
    "\n",
    "graph_feature.sum(axis=1)"
   ]
  },
  {
   "cell_type": "code",
   "execution_count": 33,
   "metadata": {},
   "outputs": [
    {
     "data": {
      "text/plain": [
       "tensor([[1, 1, 1, 3, 3],\n",
       "        [2, 2, 2, 4, 4]])"
      ]
     },
     "execution_count": 33,
     "metadata": {},
     "output_type": "execute_result"
    }
   ],
   "source": [
    "data1=torch.tensor([[1,1,1],[2,2,2]])\n",
    "data2=torch.tensor([[3,3],[4,4]])\n",
    "torch.concat([data1,data2],dim=1)"
   ]
  },
  {
   "cell_type": "code",
   "execution_count": 6,
   "metadata": {},
   "outputs": [
    {
     "data": {
      "text/plain": [
       "array([[0.08333333, 0.13333333, 0.16666667],\n",
       "       [0.33333333, 0.33333333, 0.33333333],\n",
       "       [0.58333333, 0.53333333, 0.5       ]])"
      ]
     },
     "execution_count": 6,
     "metadata": {},
     "output_type": "execute_result"
    }
   ],
   "source": [
    "data/data.sum(axis=0)"
   ]
  }
 ],
 "metadata": {
  "interpreter": {
   "hash": "e39c70acca073cfea5a3418249a380d465a2599d7392e5b40cb313cd8d208aa7"
  },
  "kernelspec": {
   "display_name": "Python 3.9.7 ('reasearch')",
   "language": "python",
   "name": "python3"
  },
  "language_info": {
   "codemirror_mode": {
    "name": "ipython",
    "version": 3
   },
   "file_extension": ".py",
   "mimetype": "text/x-python",
   "name": "python",
   "nbconvert_exporter": "python",
   "pygments_lexer": "ipython3",
   "version": "3.9.7"
  },
  "orig_nbformat": 4
 },
 "nbformat": 4,
 "nbformat_minor": 2
}
